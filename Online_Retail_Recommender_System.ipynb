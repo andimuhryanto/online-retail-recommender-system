{
 "cells": [
  {
   "cell_type": "markdown",
   "metadata": {},
   "source": [
    "# Building a Recommender System for Online Retail: A Python Implementation"
   ]
  },
  {
   "cell_type": "markdown",
   "metadata": {},
   "source": [
    "In today's rapidly evolving world of e-commerce, online retail businesses face the challenge of catering to the diverse needs and preferences of their customers. With the ever-expanding catalog of products and the abundance of choices available, customers often find it overwhelming to navigate through the vast array of options. In such a scenario, recommender systems have emerged as indispensable tools, enabling online retailers to enhance user experiences, boost customer satisfaction, and ultimately drive sales.\n",
    "\n",
    "This project introduces an effective recommender system implemented in Python specifically tailored for online retail datasets. Leveraging the power of predictive modeling, this system aims to provide personalized product recommendations to customers based on their historical behavior and similarities to other users.\n",
    "\n",
    "The recommender system employs a collaborative filtering approach, which involves capturing patterns from user-item interactions to identify similarities and make predictions. By analyzing user behavior such as purchase history we can generate relevant recommendations, thereby assisting customers in discovering new products, finding alternative options, and simplifying their decision-making process."
   ]
  },
  {
   "cell_type": "markdown",
   "metadata": {},
   "source": [
    "# About the Dataset"
   ]
  },
  {
   "cell_type": "markdown",
   "metadata": {},
   "source": [
    "Here we are using online retail transactions data from UC Irvine Machine Learning Repository which publicly available online at http://archive.ics.uci.edu/dataset/352/online+retail. \n",
    "\n",
    "The \"Online Retail II\" dataset is a collection of transactional data from an online retail store. It provides insights into customer orders, products, and sales. The dataset is typically used for market analysis, customer segmentation, recommendation systems, and other retail-related tasks.\n",
    "\n",
    "Here is a breakdown of the columns in the dataset:\n",
    "\n",
    "* `InvoiceNo`: A unique identifier for each transaction or invoice.\n",
    "* `StockCode`: The product code or identifier associated with each item.\n",
    "* `Description`: A description of the product.\n",
    "* `Quantity`: The quantity of each product in a particular transaction.\n",
    "* `InvoiceDate`: The date and time when the transaction occurred.\n",
    "* `Price`: The unit price of the product.\n",
    "* `CustomerID`: A unique identifier for each customer.\n",
    "* `Country`: The country where the customer resides.\n",
    "\n",
    "These columns provide essential information about each transaction, including the specific products purchased, their quantities, prices, and the associated customer and country details."
   ]
  },
  {
   "cell_type": "markdown",
   "metadata": {},
   "source": [
    "# Install the prerequisite libraries"
   ]
  },
  {
   "cell_type": "code",
   "execution_count": 2,
   "metadata": {},
   "outputs": [],
   "source": [
    "from collections import defaultdict\n",
    "import random"
   ]
  },
  {
   "cell_type": "markdown",
   "metadata": {},
   "source": [
    "# Import the Dataset"
   ]
  },
  {
   "cell_type": "markdown",
   "metadata": {},
   "source": [
    "The second thing to do is to read the dataset into the notebook environment.\n",
    "* We will read it from an already have a pre-downloaded tab separated value (TSV).\n",
    "* We will also convert the fields into relevant data type. \n",
    "    * `Quantity` to `int`\n",
    "    * `UnitPrice` to `float`\n",
    "    * `CustomerID` to `int`"
   ]
  },
  {
   "cell_type": "code",
   "execution_count": 3,
   "metadata": {},
   "outputs": [
    {
     "name": "stdout",
     "output_type": "stream",
     "text": [
      "['InvoiceNo', 'StockCode', 'Description', 'Quantity', 'InvoiceDate', 'UnitPrice', 'CustomerID', 'Country']\n"
     ]
    },
    {
     "data": {
      "text/plain": [
       "{'InvoiceNo': '536365',\n",
       " 'StockCode': '85123A',\n",
       " 'Description': 'WHITE HANGING HEART T-LIGHT HOLDER',\n",
       " 'Quantity': 6,\n",
       " 'InvoiceDate': '12/1/10 8:26',\n",
       " 'UnitPrice': 2.55,\n",
       " 'CustomerID': '17850',\n",
       " 'Country': 'United Kingdom'}"
      ]
     },
     "metadata": {},
     "output_type": "display_data"
    }
   ],
   "source": [
    "path = \"./online_retail.tsv\"\n",
    "with open(path, 'r') as file:\n",
    "    header = file.readline().strip()\n",
    "    header = header.split('\\t')\n",
    "\n",
    "    dataset = []\n",
    "    for line in file:\n",
    "        line = [value.strip('\"') for value in line.strip().split('\\t')]\n",
    "        dictionary = dict(zip(header, line))\n",
    "        dictionary['Quantity'] = int(dictionary['Quantity'])\n",
    "        dictionary['UnitPrice'] = float(dictionary['UnitPrice'])\n",
    "        dataset.append(dictionary)\n",
    "        \n",
    "print(header)    \n",
    "display(dataset[0])"
   ]
  },
  {
   "cell_type": "markdown",
   "metadata": {},
   "source": [
    "# Clean the data\n",
    "\n",
    "* Removing any transactions with not relevant Product Name `'DISCOUNT', 'MANUAL', '', None, 'SAMPLES', 'POSTAGE', 'PADS TO MATCH ALL CUSHIONS'`. This type of product name is considered noise\n",
    "* Removing any transactions those don't have `CustomerID`\n",
    "* Removing any transactions those `InvoiceCode` starts with the letter 'c', it indicates a cancellation\n",
    "* Removing any transactions those `Quantity` or `Unit Price` are below 0"
   ]
  },
  {
   "cell_type": "code",
   "execution_count": 4,
   "metadata": {},
   "outputs": [],
   "source": [
    "dataset = [data for data in dataset if (data['CustomerID'] != '')]\n",
    "dataset = [data for data in dataset if (data['InvoiceNo'][0].upper() != 'C')]\n",
    "dataset = [data for data in dataset if (data['Quantity'] > 0)]\n",
    "dataset = [data for data in dataset if (data['UnitPrice'] > 0)]\n",
    "dataset = [data for data in dataset if \n",
    "           (data['Description'].upper() not in ['DISCOUNT', 'MANUAL', '', None, 'SAMPLES', 'POSTAGE', 'PADS TO MATCH ALL CUSHIONS'])]"
   ]
  },
  {
   "cell_type": "markdown",
   "metadata": {},
   "source": [
    "# Extracting Common Statistics"
   ]
  },
  {
   "cell_type": "code",
   "execution_count": 5,
   "metadata": {},
   "outputs": [
    {
     "name": "stdout",
     "output_type": "stream",
     "text": [
      "Total Transactions:  396498\n",
      "Total Customers Transacting: 4335\n",
      "Total Products: 3662\n",
      "Total Number of Operating Countries 37\n",
      "Highest Transactions Volume: 80995\n",
      "Highest Transactions Valuev: 168469.6\n"
     ]
    }
   ],
   "source": [
    "print('Total Transactions: ', len(dataset))\n",
    "print('Total Customers Transacting:', len(set([data['CustomerID'] for data in dataset])))\n",
    "print('Total Products:', len(set([data['StockCode'] for data in dataset])))\n",
    "print('Total Number of Operating Countries', len(set([data['Country'] for data in dataset])))\n",
    "print('Highest Transactions Volume:', max([data['Quantity'] for data in dataset]))\n",
    "print('Highest Transactions Valuev:', max([data['Quantity'] * data['UnitPrice'] for data in dataset]))"
   ]
  },
  {
   "cell_type": "markdown",
   "metadata": {},
   "source": [
    "# Build a Similarity-based Recommender System\n",
    "Similarity-based recommender systems are somehow trying to measure similarity between items, or similarity between users. In this case, we estimate the similarity between items in terms of the users who have purchased them\n",
    "\n",
    "This is not so much a machine learning based recommender system, but this is trying to discover common patterns among people's purchasing."
   ]
  },
  {
   "cell_type": "markdown",
   "metadata": {},
   "source": [
    "Here we create two `defaultdict` instances `userPerProduct` and `productsPerUser` and will populated each of them.\n",
    "* `userPerProduct`: Contains a set of `CustomerID` which buy a specific product represent by its `StockCode`\n",
    "* `productsPerUser`: Contains a set of all items represented by `StockCode` a specific `CustomerID` bought"
   ]
  },
  {
   "cell_type": "markdown",
   "metadata": {},
   "source": [
    "## Populate the vector of products and users"
   ]
  },
  {
   "cell_type": "code",
   "execution_count": 8,
   "metadata": {},
   "outputs": [],
   "source": [
    "userPerProduct = defaultdict(set)\n",
    "productsPerUser = defaultdict(set)\n",
    "\n",
    "itemNames = {}\n",
    "\n",
    "for d in dataset:\n",
    "    user,item = d['CustomerID'], d['StockCode']\n",
    "    userPerProduct[item].add(user)\n",
    "    productsPerUser[user].add(item)\n",
    "    itemNames[item] = d['Description']"
   ]
  },
  {
   "cell_type": "code",
   "execution_count": 12,
   "metadata": {},
   "outputs": [
    {
     "name": "stdout",
     "output_type": "stream",
     "text": [
      "Users who bought \"85123A CREAM HANGING HEART T-LIGHT HOLDER\": \n",
      " ['13928', '13486', '13428', '16932', '17634', '14465', '16849', '17169', '17041', '14432']\n",
      "\n",
      "\n",
      "Product StockCode that User \"17377\" bought: \n",
      " ['21289', '23372', '21519', '22717', '22437', '21035', '22587', '21622', '23508', '22078']\n"
     ]
    }
   ],
   "source": [
    "sampleCustomerID = '17377'\n",
    "sampleStockCode = '85123A'\n",
    "\n",
    "print(f'Users who bought \"{sampleStockCode} {itemNames[sampleStockCode]}\": \\n', list(userPerProduct[sampleStockCode])[:10])\n",
    "print('\\n')\n",
    "print(f'Product StockCode that User \"{sampleCustomerID}\" bought: \\n', list(productsPerUser[sampleCustomerID])[:10])"
   ]
  },
  {
   "cell_type": "markdown",
   "metadata": {},
   "source": [
    "## Similarity Functions\n",
    "There are several methodologies to calculate the similarity (distance) between two objects e.g `Euclidean Distance`, `Jaccard Similarity`, `Cosine Similarity`, and `Pearson Correlation`.\n",
    "\n",
    "In this case, we will used `Jaccard Similarity`, which defines as **ratio how much users who purchased both product A and B by the total unique users who bought product A or Product B**, which describe in this formula:\n",
    "\n",
    "\n",
    "\n",
    "    J(A, B) = |A ∩ B| / |A ∪ B|\n",
    "    A = set of users who purchased product A\n",
    "    B = set of users who purchased product B\n",
    "\n",
    "Then based on the similarity value, we sort it in descending because higher value means higher similiarity.\n",
    "\n"
   ]
  },
  {
   "cell_type": "code",
   "execution_count": 7,
   "metadata": {},
   "outputs": [],
   "source": [
    "def Jaccard(s1, s2):\n",
    "    numer = len(s1.intersection(s2))\n",
    "    denom = len(s1.union(s2))\n",
    "    return numer / denom\n",
    "\n",
    "def mostSimilar(iD, n):\n",
    "    similarities = []\n",
    "    users = userPerProduct[iD]\n",
    "    for i2 in userPerProduct:\n",
    "        if i2 == iD: continue\n",
    "        sim = Jaccard(users, userPerProduct[i2])\n",
    "        similarities.append((sim,i2))\n",
    "    similarities.sort(reverse=True)\n",
    "    return similarities[:n]"
   ]
  },
  {
   "cell_type": "markdown",
   "metadata": {},
   "source": [
    "# Find Similar Products of a Specific Product\n",
    "Now we can test our recommendation system by calculating the Jaccard similarity values to 3 random products."
   ]
  },
  {
   "cell_type": "code",
   "execution_count": 8,
   "metadata": {},
   "outputs": [],
   "source": [
    "totalProducts = len(itemNames)\n",
    "N_product = 3\n",
    "top_similar_n = 10\n",
    "stockCodes = list(itemNames.keys())"
   ]
  },
  {
   "cell_type": "code",
   "execution_count": 11,
   "metadata": {},
   "outputs": [
    {
     "name": "stdout",
     "output_type": "stream",
     "text": [
      "--------------------------------------------------\n",
      "1 Iteration\n",
      "--------------------------------------------------\n",
      "Randomized Index: 809\n",
      "Stock code of the 809th Items: 51014L\n",
      "The product name of the StockCode: FEATHER PEN,LIGHT PINK\n"
     ]
    },
    {
     "data": {
      "text/plain": [
       "[(0.3383458646616541, '51014A', 'FEATHER PEN,HOT PINK'),\n",
       " (0.3, '51014C', 'FEATHER PEN,COAL BLACK'),\n",
       " (0.10714285714285714, '35471D', 'SET OF 3 BIRD LIGHT PINK FEATHER '),\n",
       " (0.10687022900763359, '21159', 'MOODY BOY  DOOR HANGER '),\n",
       " (0.1038961038961039, '21162', 'TOXIC AREA  DOOR HANGER '),\n",
       " (0.10377358490566038, '20992', 'JAZZ HEARTS PURSE NOTEBOOK'),\n",
       " (0.10185185185185185, '84596F', 'SMALL MARSHMALLOWS PINK BOWL'),\n",
       " (0.10062893081761007, '21158', 'MOODY GIRL DOOR HANGER '),\n",
       " (0.09859154929577464, '84596G', 'SMALL CHOCOLATES PINK BOWL'),\n",
       " (0.09803921568627451, '82616C', 'MIDNIGHT GLAMOUR SCARF KNITTING KIT')]"
      ]
     },
     "metadata": {},
     "output_type": "display_data"
    },
    {
     "name": "stdout",
     "output_type": "stream",
     "text": [
      "--------------------------------------------------\n",
      "2 Iteration\n",
      "--------------------------------------------------\n",
      "Randomized Index: 3545\n",
      "Stock code of the 3545th Items: 23447\n",
      "The product name of the StockCode: PINK BUNNY EASTER EGG BASKET\n"
     ]
    },
    {
     "data": {
      "text/plain": [
       "[(0.75, '23446', 'BLUE BUNNY EASTER EGG BASKET'),\n",
       " (0.4, '23448', 'CREAM BUNNY EASTER EGG BASKET'),\n",
       " (0.16666666666666666, '84805B', 'BLUE CLIMBING HYDRANGA ART FLOWER'),\n",
       " (0.16666666666666666, '72369A', 'PINK CLEAR GLASS CANDLE PLATE'),\n",
       " (0.125, '23440', 'PAINT YOUR OWN EGGS IN CRATE'),\n",
       " (0.1111111111111111, '84804B', 'BLUE DELPHINIUM ARTIFICIAL FLOWER'),\n",
       " (0.09090909090909091, '84915', 'HAND TOWEL PINK FLOWER AND DAISY'),\n",
       " (0.09090909090909091, '23477', 'WOODLAND LARGE BLUE FELT HEART'),\n",
       " (0.08333333333333333, '23478', 'WOODLAND LARGE PINK FELT HEART'),\n",
       " (0.07692307692307693, '84952B', 'BLACK LOVE BIRD T-LIGHT HOLDER')]"
      ]
     },
     "metadata": {},
     "output_type": "display_data"
    },
    {
     "name": "stdout",
     "output_type": "stream",
     "text": [
      "--------------------------------------------------\n",
      "3 Iteration\n",
      "--------------------------------------------------\n",
      "Randomized Index: 3211\n",
      "Stock code of the 3211th Items: 23014\n",
      "The product name of the StockCode: GLASS APOTHECARY BOTTLE ELIXIR\n"
     ]
    },
    {
     "data": {
      "text/plain": [
       "[(0.5389221556886228, '23013', 'GLASS APOTHECARY BOTTLE TONIC'),\n",
       " (0.5166666666666667, '23012', 'GLASS APOTHECARY BOTTLE PERFUME'),\n",
       " (0.19594594594594594, '23418', 'LAVENDER TOILETTE BOTTLE'),\n",
       " (0.14285714285714285, '22362', 'GLASS JAR PEACOCK BATH SALTS'),\n",
       " (0.13829787234042554, '22361', 'GLASS JAR DAISY FRESH COTTON WOOL'),\n",
       " (0.12666666666666668, '22359', 'GLASS JAR KINGS CHOICE'),\n",
       " (0.12352941176470589, '22364', 'GLASS JAR DIGESTIVE BISCUITS'),\n",
       " (0.11442786069651742, '22360', 'GLASS JAR ENGLISH CONFECTIONERY'),\n",
       " (0.11258278145695365, '22363', 'GLASS JAR MARMALADE '),\n",
       " (0.1125, '23419', 'HOME SWEET HOME BOTTLE ')]"
      ]
     },
     "metadata": {},
     "output_type": "display_data"
    }
   ],
   "source": [
    "for i in range(N_product):\n",
    "    print('-'*50)\n",
    "    print(f'{i+1} Iteration')\n",
    "    print('-'*50)\n",
    "\n",
    "    index = random.randrange(0, totalProducts)\n",
    "    print('Randomized Index:', index)\n",
    "    \n",
    "    stockCode = stockCodes[index]\n",
    "    print(f'Stock code of the {index}th Items:', stockCode)\n",
    "\n",
    "    itemName = itemNames[stockCode]\n",
    "    print('The product name of the StockCode:', itemName)\n",
    "\n",
    "    similarProductCode = mostSimilar(stockCode, top_similar_n)\n",
    "    similarProductName = [(similarity, code, itemNames[code]) for similarity, code in similarProductCode]\n",
    "    display(similarProductName)\n",
    "    "
   ]
  },
  {
   "cell_type": "markdown",
   "metadata": {},
   "source": [
    "# Analysis\n",
    "Based on the Jaccard similarity value, we can see that each products we tested managed to show other products that similar to them.\n",
    "1. First iteration, `FEATHER PEN,LIGHT PINK` top 10 products are **Feather-themed Accessories**.\n",
    "2. Second iteration, `PINK BUNNY EASTER EGG BASKET` top 10 products are **Easter Decorations and Accessories.**.\n",
    "3. Third iteration `GLASS APOTHECARY BOTTLE ELIXIR` top 10 products are **Glass Apothecary Bottles and Jars**."
   ]
  },
  {
   "cell_type": "markdown",
   "metadata": {},
   "source": [
    "# Conclusion"
   ]
  },
  {
   "cell_type": "markdown",
   "metadata": {},
   "source": [
    "In this project, a recommender system was developed using Python for an online retail dataset. The goal was to provide personalized recommendations to users based on their historical purchase behavior. The system employed collaborative filtering techniques to identify patterns and similarities among users and items in order to generate accurate and relevant recommendations.\n",
    "\n",
    "The implementation of the recommender system provided several benefits to the online retail platform. It enhanced the user experience by offering personalized recommendations, thereby increasing user engagement and satisfaction. The system also helped the platform increase sales and revenue by suggesting relevant items to users, which in turn encouraged repeat purchases and cross-selling."
   ]
  }
 ],
 "metadata": {
  "kernelspec": {
   "display_name": "Python 3",
   "language": "python",
   "name": "python3"
  },
  "language_info": {
   "codemirror_mode": {
    "name": "ipython",
    "version": 3
   },
   "file_extension": ".py",
   "mimetype": "text/x-python",
   "name": "python",
   "nbconvert_exporter": "python",
   "pygments_lexer": "ipython3",
   "version": "3.9.6"
  },
  "orig_nbformat": 4
 },
 "nbformat": 4,
 "nbformat_minor": 2
}
